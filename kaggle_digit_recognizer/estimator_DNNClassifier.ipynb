{
 "cells": [
  {
   "cell_type": "code",
   "execution_count": 1,
   "metadata": {},
   "outputs": [],
   "source": [
    "from __future__ import print_function\n",
    "import math\n",
    "\n",
    "from IPython.display import display\n",
    "from matplotlib import pyplot as plt\n",
    "from sklearn import metrics\n",
    "\n",
    "import time\n",
    "import numpy as np\n",
    "import pandas as pd\n",
    "import tensorflow as tf\n",
    "\n",
    "\n",
    "tf.logging.set_verbosity(tf.logging.ERROR)\n",
    "\n",
    "train_data = pd.read_csv(\"./dataSet/train.csv\")\n",
    "test_data = pd.read_csv(\"./dataSet/test.csv\")\n",
    "\n",
    "train_copy = test_data.copy()\n",
    "test_copy = test_data.copy()"
   ]
  },
  {
   "cell_type": "code",
   "execution_count": 2,
   "metadata": {},
   "outputs": [
    {
     "name": "stdout",
     "output_type": "stream",
     "text": [
      "<class 'pandas.core.frame.DataFrame'>\n",
      "RangeIndex: 42000 entries, 0 to 41999\n",
      "Columns: 785 entries, label to pixel783\n",
      "dtypes: int64(785)\n",
      "memory usage: 251.5 MB\n"
     ]
    },
    {
     "data": {
      "text/plain": [
       "None"
      ]
     },
     "metadata": {},
     "output_type": "display_data"
    },
    {
     "name": "stdout",
     "output_type": "stream",
     "text": [
      "1553274063\n"
     ]
    }
   ],
   "source": [
    "display(train_data.info())\n",
    "print(int(time.time()))"
   ]
  },
  {
   "cell_type": "code",
   "execution_count": 3,
   "metadata": {},
   "outputs": [],
   "source": [
    "def construct_features(data):\n",
    "    return (set([tf.feature_column.numeric_column(feature) for feature in data]))        \n",
    "    \n",
    "def train(data, mod_directory=None, learning_rate=0.01, batch_size=5, steps=100, periods=10):\n",
    "    # Random data set\n",
    "    train_set = data.sample(frac=0.8, replace=False, random_state=100)\n",
    "    cv_set = data.loc[set(data.index) - set(train_set.index)]\n",
    "    feature_columns = construct_features(data.drop('label', axis=1))\n",
    "    \n",
    "    # Set input function\n",
    "    train_input = tf.estimator.inputs.pandas_input_fn(\n",
    "        x = train_set.drop('label', axis=1),\n",
    "        y = train_set.label,\n",
    "        queue_capacity=batch_size,\n",
    "        num_epochs=None,\n",
    "        shuffle=True,\n",
    "        batch_size=batch_size\n",
    "    )\n",
    "    \n",
    "    train_eval_input = tf.estimator.inputs.pandas_input_fn(\n",
    "        x = train_set.drop('label', axis=1),\n",
    "        y = train_set.label,\n",
    "        num_epochs=1,\n",
    "        shuffle=True,\n",
    "    )\n",
    "    \n",
    "    cv_input = tf.estimator.inputs.pandas_input_fn(\n",
    "        x = cv_set.drop('label', axis=1),\n",
    "        y = cv_set.label,\n",
    "        num_epochs=1,\n",
    "        shuffle=False,\n",
    "    )\n",
    "            \n",
    "    # Build DNN classifier\n",
    "    estimator = tf.estimator.DNNClassifier(\n",
    "        hidden_units=[1024, 512, 64],\n",
    "        feature_columns=feature_columns,\n",
    "        optimizer=tf.train.AdamOptimizer(learning_rate),\n",
    "        n_classes=10,\n",
    "        dropout=0.1,\n",
    "        model_dir=mod_directory + str(int(time.time())) if mod_directory else None,\n",
    "#         warm_start_from='./test1551856412',\n",
    "    )\n",
    "    \n",
    "    training_rmse = []\n",
    "    validation_rmse = []\n",
    "    \n",
    "    for i in range(periods):\n",
    "        print('%d period:' % (i + 1), end='')\n",
    "        estimator.train(input_fn=train_input, steps=steps)\n",
    "            \n",
    "        # Evaluate training \n",
    "        eval_train = estimator.evaluate(input_fn=cv_input) \n",
    "        print(eval_train)\n",
    "            \n",
    "    print(\"Model training finished.\")\n",
    "    return estimator\n",
    "\n"
   ]
  },
  {
   "cell_type": "code",
   "execution_count": null,
   "metadata": {
    "scrolled": false
   },
   "outputs": [
    {
     "name": "stdout",
     "output_type": "stream",
     "text": [
      "1 period:{'accuracy': 0.7135714, 'average_loss': 1.8007889, 'global_step': 100, 'loss': 229.19131}\n",
      "2 period:{'accuracy': 0.5978571, 'average_loss': 1.1905558, 'global_step': 200, 'loss': 151.52528}\n",
      "3 period:{'accuracy': 0.5694048, 'average_loss': 1.1929239, 'global_step': 300, 'loss': 151.82668}\n",
      "4 period:{'accuracy': 0.6275, 'average_loss': 1.0831248, 'global_step': 400, 'loss': 137.85225}\n",
      "5 period:{'accuracy': 0.7267857, 'average_loss': 0.8652119, 'global_step': 500, 'loss': 110.117874}\n",
      "6 period:{'accuracy': 0.74273807, 'average_loss': 0.82165104, 'global_step': 600, 'loss': 104.57377}\n",
      "7 period:"
     ]
    }
   ],
   "source": [
    "estimator1 = train(\n",
    "    train_data,\n",
    "    learning_rate=1e-4,\n",
    "    batch_size=50,\n",
    "    steps=100,\n",
    "    periods=30,\n",
    "    mod_directory='test',\n",
    ")"
   ]
  }
 ],
 "metadata": {
  "kernelspec": {
   "display_name": "Python 3",
   "language": "python",
   "name": "python3"
  },
  "language_info": {
   "codemirror_mode": {
    "name": "ipython",
    "version": 3
   },
   "file_extension": ".py",
   "mimetype": "text/x-python",
   "name": "python",
   "nbconvert_exporter": "python",
   "pygments_lexer": "ipython3",
   "version": "3.5.3"
  }
 },
 "nbformat": 4,
 "nbformat_minor": 2
}
