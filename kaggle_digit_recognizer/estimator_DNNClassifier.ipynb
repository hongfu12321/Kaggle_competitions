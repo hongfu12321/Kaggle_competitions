{
 "cells": [
  {
   "cell_type": "code",
   "execution_count": null,
   "metadata": {},
   "outputs": [],
   "source": [
    "from __future__ import print_function\n",
    "import math\n",
    "\n",
    "from IPython.display import display\n",
    "from matplotlib import pyplot as plt\n",
    "from sklearn import metrics\n",
    "\n",
    "import time\n",
    "import numpy as np\n",
    "import pandas as pd\n",
    "import tensorflow as tf\n",
    "\n",
    "\n",
    "tf.logging.set_verbosity(tf.logging.ERROR)\n",
    "\n",
    "train_data = pd.read_csv(\"./dataSet/train.csv\")\n",
    "test_data = pd.read_csv(\"./dataSet/test.csv\")\n",
    "\n",
    "train_copy = test_data.copy()\n",
    "test_copy = test_data.copy()"
   ]
  },
  {
   "cell_type": "code",
   "execution_count": null,
   "metadata": {},
   "outputs": [],
   "source": [
    "display(train_data.info())\n",
    "print(int(time.time()))"
   ]
  },
  {
   "cell_type": "code",
   "execution_count": null,
   "metadata": {},
   "outputs": [],
   "source": [
    "def construct_features(data):\n",
    "    return (set([tf.feature_column.numeric_column(feature) for feature in data]))        \n",
    "    \n",
    "def train(data, mod_directory=None, learning_rate=0.01, batch_size=5, steps=100, periods=10):\n",
    "    # Random data set\n",
    "    train_set = data.sample(frac=0.8, replace=False, random_state=100)\n",
    "    cv_set = data.loc[set(data.index) - set(train_set.index)]\n",
    "    feature_columns = construct_features(data.drop('label', axis=1))\n",
    "    \n",
    "    # Set input function\n",
    "    train_input = tf.estimator.inputs.pandas_input_fn(\n",
    "        x = train_set.drop('label', axis=1),\n",
    "        y = train_set.label,\n",
    "        queue_capacity=batch_size,\n",
    "        num_epochs=None,\n",
    "        shuffle=True,\n",
    "        batch_size=batch_size\n",
    "    )\n",
    "    \n",
    "    train_eval_input = tf.estimator.inputs.pandas_input_fn(\n",
    "        x = train_set.drop('label', axis=1),\n",
    "        y = train_set.label,\n",
    "        num_epochs=1,\n",
    "        shuffle=True,\n",
    "    )\n",
    "    \n",
    "    cv_input = tf.estimator.inputs.pandas_input_fn(\n",
    "        x = cv_set.drop('label', axis=1),\n",
    "        y = cv_set.label,\n",
    "        num_epochs=1,\n",
    "        shuffle=False,\n",
    "    )\n",
    "            \n",
    "    # Build DNN classifier\n",
    "    estimator = tf.estimator.DNNClassifier(\n",
    "        hidden_units=[1024, 512, 64],\n",
    "        feature_columns=feature_columns,\n",
    "        optimizer=tf.train.AdamOptimizer(learning_rate),\n",
    "        n_classes=10,\n",
    "        dropout=0.1,\n",
    "        model_dir=mod_directory + str(int(time.time())) if mod_directory else None,\n",
    "#         warm_start_from='./test1551856412',\n",
    "    )\n",
    "    \n",
    "    training_rmse = []\n",
    "    validation_rmse = []\n",
    "    \n",
    "    for i in range(periods):\n",
    "        print('%d period:' % (i + 1), end='')\n",
    "        estimator.train(input_fn=train_input, steps=steps)\n",
    "            \n",
    "        # Evaluate training \n",
    "        eval_train = estimator.evaluate(input_fn=cv_input) \n",
    "        print(eval_train)\n",
    "            \n",
    "    print(\"Model training finished.\")\n",
    "    return estimator\n",
    "\n"
   ]
  },
  {
   "cell_type": "code",
   "execution_count": null,
   "metadata": {
    "scrolled": false
   },
   "outputs": [],
   "source": [
    "estimator1 = train(\n",
    "    train_data,\n",
    "    learning_rate=1e-4,\n",
    "    batch_size=50,\n",
    "    steps=100,\n",
    "    periods=30,\n",
    "    mod_directory='test',\n",
    ")"
   ]
  }
 ],
 "metadata": {
  "kernelspec": {
   "display_name": "Python 3",
   "language": "python",
   "name": "python3"
  },
  "language_info": {
   "codemirror_mode": {
    "name": "ipython",
    "version": 3
   },
   "file_extension": ".py",
   "mimetype": "text/x-python",
   "name": "python",
   "nbconvert_exporter": "python",
   "pygments_lexer": "ipython3",
   "version": "3.6.5"
  }
 },
 "nbformat": 4,
 "nbformat_minor": 2
}
